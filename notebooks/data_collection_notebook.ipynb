{
 "cells": [
  {
   "cell_type": "markdown",
   "id": "6ac8ad70",
   "metadata": {},
   "source": [
    "### Introduction\n",
    "This notebook demonstrates the initial data ingestion process for the **Ethio Ecom NER Analytics** project, focusing on scraping e-commerce data from Telegram channels in Ethiopia. The goal is to collect real-time posts from multiple Telegram channels to build a dataset for Named Entity Recognition (NER) and vendor analytics. The process leverages a custom Telegram scraper built with the `Telethon` library, tailored to handle Amharic text and multimedia content.\n",
    "\n",
    "---"
   ]
  },
  {
   "cell_type": "markdown",
   "id": "6e846d98",
   "metadata": {},
   "source": [
    "### Scripts and Imports\n",
    "- The `scripts.telegram_scraper` module contains the core scraping logic, imported to fetch data from Telegram channels."
   ]
  },
  {
   "cell_type": "code",
   "execution_count": null,
   "id": "bd8b9584",
   "metadata": {},
   "outputs": [],
   "source": [
    "import sys\n",
    "import os\n",
    "sys.path.append(os.path.abspath(\"..\"))\n",
    "from scripts.telegram_scraper import scrape_channels"
   ]
  },
  {
   "cell_type": "markdown",
   "id": "f05bbfbe",
   "metadata": {},
   "source": [
    "### Data Collection\n",
    "\n",
    "The `scrape_channels` function is executed asynchronously to fetch messages from the listed Telegram channels. Images are excluded (`download_images=False`) to focus on text data initially, with the option to enable later for multimodal analysis."
   ]
  },
  {
   "cell_type": "code",
   "execution_count": 3,
   "id": "565863c8",
   "metadata": {},
   "outputs": [
    {
     "name": "stderr",
     "output_type": "stream",
     "text": [
      "Attempt 1 at connecting failed: TimeoutError: \n",
      "Attempt 2 at connecting failed: TimeoutError: \n"
     ]
    },
    {
     "name": "stdout",
     "output_type": "stream",
     "text": [
      "Signed in successfully as ｲ乇刀丂ﾑ乇ﾘ; remember to not break the ToS or you will risk an account ban!\n",
      "✅ Scraped data from @ethio_brand_collection\n",
      "✅ Scraped data from @modernshoppingcenter\n",
      "✅ Scraped data from @qnashcom\n",
      "✅ Scraped data from @AwasMart\n",
      "✅ Scraped data from @maedbet\n",
      "✅ Scraped data from @ZemenExpress\n"
     ]
    }
   ],
   "source": [
    "channels = ['@ethio_brand_collection', '@modernshoppingcenter', '@qnashcom', '@AwasMart', '@maedbet', '@ZemenExpress']\n",
    "await scrape_channels(channels, download_images=False)"
   ]
  },
  {
   "cell_type": "markdown",
   "id": "ba0740e5",
   "metadata": {},
   "source": [
    "### Explanation of the Output\n",
    "The output log indicates the scraping process's success after overcoming initial connection issues. The `scrape_channels` function:\n",
    "- Connects to Telegram using credentials stored in a `.env` file (`TG_API_ID`, `TG_API_HASH`, `phone`).\n",
    "- Iterates over each channel, fetching up to 10,000 messages per channel.\n",
    "- Writes data to `../data/raw/telegram_data.csv` with columns: `Channel Title`, `Channel Username`, `ID`, `Message`, `Date`, `Media Path`.\n",
    "- Skips image downloads (as `download_images=False`), storing only text and metadata.\n",
    "\n",
    "### Insights\n",
    "- **Connection Failures:** The `TimeoutError` suggests potential network instability or Telegram API throttling. Consider adding retry logic with exponential backoff in future iterations.\n",
    "- **Success Rate:** All channels were scraped successfully after login, confirming the script's functionality.\n",
    "- **Data Storage:** Data is saved in a structured CSV, ready for preprocessing and NER labeling tasks outlined in the project.\n",
    "\n",
    "---\n",
    "\n",
    "### Next Steps\n",
    "1. **Data Validation:** Verify the CSV content for completeness and Amharic text integrity.\n",
    "2. **Preprocessing:** Tokenize and normalize the scraped text in a separate notebook.\n",
    "\n",
    "This notebook serves as the foundation for the data ingestion pipeline, setting the stage for downstream NER model fine-tuning and vendor analytics."
   ]
  }
 ],
 "metadata": {
  "kernelspec": {
   "display_name": ".venv",
   "language": "python",
   "name": "python3"
  },
  "language_info": {
   "codemirror_mode": {
    "name": "ipython",
    "version": 3
   },
   "file_extension": ".py",
   "mimetype": "text/x-python",
   "name": "python",
   "nbconvert_exporter": "python",
   "pygments_lexer": "ipython3",
   "version": "3.13.1"
  }
 },
 "nbformat": 4,
 "nbformat_minor": 5
}
