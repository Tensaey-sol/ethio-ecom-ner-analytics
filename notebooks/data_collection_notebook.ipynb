{
 "cells": [
  {
   "cell_type": "code",
   "execution_count": 1,
   "id": "bd8b9584",
   "metadata": {},
   "outputs": [],
   "source": [
    "import sys\n",
    "import os\n",
    "sys.path.append(os.path.abspath(\"..\"))"
   ]
  },
  {
   "cell_type": "code",
   "execution_count": null,
   "id": "c673e837",
   "metadata": {},
   "outputs": [],
   "source": [
    "from scripts.telegram_scraper import scrape_channels"
   ]
  },
  {
   "cell_type": "code",
   "execution_count": 3,
   "id": "565863c8",
   "metadata": {},
   "outputs": [
    {
     "name": "stderr",
     "output_type": "stream",
     "text": [
      "Attempt 1 at connecting failed: TimeoutError: \n",
      "Attempt 2 at connecting failed: TimeoutError: \n"
     ]
    },
    {
     "name": "stdout",
     "output_type": "stream",
     "text": [
      "Signed in successfully as ｲ乇刀丂ﾑ乇ﾘ; remember to not break the ToS or you will risk an account ban!\n",
      "✅ Scraped data from @ethio_brand_collection\n",
      "✅ Scraped data from @modernshoppingcenter\n",
      "✅ Scraped data from @qnashcom\n",
      "✅ Scraped data from @AwasMart\n",
      "✅ Scraped data from @maedbet\n",
      "✅ Scraped data from @ZemenExpress\n"
     ]
    }
   ],
   "source": [
    "channels = ['@ethio_brand_collection', '@modernshoppingcenter', '@qnashcom', '@AwasMart', '@maedbet', '@ZemenExpress']\n",
    "await scrape_channels(channels, download_images=False)"
   ]
  }
 ],
 "metadata": {
  "kernelspec": {
   "display_name": ".venv",
   "language": "python",
   "name": "python3"
  },
  "language_info": {
   "codemirror_mode": {
    "name": "ipython",
    "version": 3
   },
   "file_extension": ".py",
   "mimetype": "text/x-python",
   "name": "python",
   "nbconvert_exporter": "python",
   "pygments_lexer": "ipython3",
   "version": "3.13.1"
  }
 },
 "nbformat": 4,
 "nbformat_minor": 5
}
